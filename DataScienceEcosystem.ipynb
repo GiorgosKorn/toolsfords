{
 "cells": [
  {
   "cell_type": "markdown",
   "id": "b34b6697-cdc0-4635-bb26-2274702d7ce3",
   "metadata": {},
   "source": [
    "<h1>Data Science Tools and Ecosystem</h1>"
   ]
  },
  {
   "cell_type": "markdown",
   "id": "de426ed4-4734-4d16-832b-5c778479d7ea",
   "metadata": {},
   "source": [
    "In this notebook, Data Science Tools and Ecosystem are summarized."
   ]
  },
  {
   "cell_type": "markdown",
   "id": "8c411622-e495-40a5-9ea5-86e8f2f96d2a",
   "metadata": {},
   "source": [
    "<strong>Objectives</strong>\n",
    "- languages for data science\n",
    "- tools for data science\n",
    "- examples of evaluating arithmetic expressions"
   ]
  },
  {
   "cell_type": "markdown",
   "id": "e4d2469b-00f2-4046-b63b-61d1a6dbde22",
   "metadata": {},
   "source": [
    "Some of the popular languages that Data Scientists use are: \n",
    "1. Python\n",
    "2. R\n",
    "3. Java"
   ]
  },
  {
   "cell_type": "markdown",
   "id": "43d7ffb9-60b7-4c64-ae10-fc3521e2c726",
   "metadata": {},
   "source": [
    "Some of the commonly used libraries used by Data Scientists include: \n",
    "1. SciPy\n",
    "2. Tensorflow\n",
    "3. Numpy"
   ]
  },
  {
   "cell_type": "markdown",
   "id": "02a176e6-70d9-4214-aa7d-8a5c5dca1f4c",
   "metadata": {
    "tags": []
   },
   "source": [
    "| Data Science Tools |\n",
    "| --- |\n",
    "| VS Code |\n",
    "| PyCharm |\n",
    "| Apache Spark |"
   ]
  },
  {
   "cell_type": "markdown",
   "id": "ad706263-635d-4a2e-a31d-320164db01dd",
   "metadata": {},
   "source": [
    "<h3>Below are some examples of evaluatiing arithmetic expressions in Python</h3>"
   ]
  },
  {
   "cell_type": "code",
   "execution_count": 2,
   "id": "c01e7f5d-533d-4cbb-9ec3-96368dae9f3f",
   "metadata": {
    "tags": []
   },
   "outputs": [
    {
     "data": {
      "text/plain": [
       "17"
      ]
     },
     "execution_count": 2,
     "metadata": {},
     "output_type": "execute_result"
    }
   ],
   "source": [
    "#This is a simple arithmetic expression to multiply then add integers\n",
    "\n",
    "(3*4)+5"
   ]
  },
  {
   "cell_type": "code",
   "execution_count": 3,
   "id": "e37c708b-1225-4ee7-b9b3-324779a98467",
   "metadata": {
    "tags": []
   },
   "outputs": [
    {
     "data": {
      "text/plain": [
       "3.3333333333333335"
      ]
     },
     "execution_count": 3,
     "metadata": {},
     "output_type": "execute_result"
    }
   ],
   "source": [
    "# This will convert 200 minutes to hours by dividing by 60\n",
    "\n",
    "200/60"
   ]
  },
  {
   "cell_type": "markdown",
   "id": "d7ba8bb7-3d48-44fd-9898-e2b4479b24f5",
   "metadata": {},
   "source": [
    "<h2>Author</h2>\n",
    "George Kornarakis"
   ]
  }
 ],
 "metadata": {
  "kernelspec": {
   "display_name": "Python",
   "language": "python",
   "name": "conda-env-python-py"
  },
  "language_info": {
   "codemirror_mode": {
    "name": "ipython",
    "version": 3
   },
   "file_extension": ".py",
   "mimetype": "text/x-python",
   "name": "python",
   "nbconvert_exporter": "python",
   "pygments_lexer": "ipython3",
   "version": "3.7.12"
  }
 },
 "nbformat": 4,
 "nbformat_minor": 5
}
